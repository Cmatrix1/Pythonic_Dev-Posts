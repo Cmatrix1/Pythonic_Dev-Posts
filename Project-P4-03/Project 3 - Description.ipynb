{
 "cells": [
  {
   "cell_type": "markdown",
   "metadata": {},
   "source": [
    "### Project 3 - Single Inheritance - Solution"
   ]
  },
  {
   "cell_type": "markdown",
   "metadata": {},
   "source": [
    "You are writing an inventory application for a budding tech guy who has a video channel featuring computer builds.\n",
    "Basically they have a pool of inventory, (for example 5 x AMD Ryzen 2-2700 CPUs) that they use for builds. When they take a CPU from the pool, they will indicate this using the object that tracks that sepcific type of CPU. They may also purchase additional CPUs, or retire some (because they overclocked it too much and burnt them out!)."
   ]
  },
  {
   "cell_type": "markdown",
   "metadata": {},
   "source": [
    "Technically we would want a database to back all this data, but here we're just going to build the classes we'll use while our program is running and not worry about retrieving or saving the state of the inventory."
   ]
  },
  {
   "cell_type": "markdown",
   "metadata": {},
   "source": [
    "The base class is going to be a general `Resource`. This class should provide functionality common to all the actual resources (CPU, GPU, Memory, HDD, SSD) - for this exercise we're only going to implement CPU, HDD and SSD."
   ]
  },
  {
   "cell_type": "markdown",
   "metadata": {},
   "source": [
    "It should provide this at a minimum:"
   ]
  },
  {
   "cell_type": "markdown",
   "metadata": {},
   "source": [
    "- `name` : user-friendly name of resource instance (e.g.` Intel Core i9-9900K`)\n",
    "- `manufacturer` - resource instance manufacturer (e.g. `Nvidia`)\n",
    "- `total` : inventory total (how many are in the inventory pool)\n",
    "- `allocated` : number allocated (how many are already in use)\n",
    "- a `__str__` representation that just returns the resource name\n",
    "- a mode detailed `__repr__` implementation\n",
    "- `claim(n)` : method to take n resources from the pool (as long as inventory is available)\n",
    "- `freeup(n)` : method to return n resources to the pool (e.g. disassembled some builds)\n",
    "- `died(n)` : method to return and permanently remove inventory from the pool (e.g. they broke something) - as long as total available allows it\n",
    "- `purchased(n)` - method to add inventory to the pool (e.g. they purchased a new CPU)\n",
    "- `category` - computed property that returns a lower case version of the class name"
   ]
  },
  {
   "cell_type": "markdown",
   "metadata": {},
   "source": [
    "Next we are going to define child classes for each of CPU, HDD and SDD."
   ]
  },
  {
   "cell_type": "markdown",
   "metadata": {},
   "source": [
    "For the `CPU` class:\n",
    "- `cores` (e.g. `8`)\n",
    "- `socket` (e.g. `AM4`)\n",
    "- `power_watts` (e.g. `94`)"
   ]
  },
  {
   "cell_type": "markdown",
   "metadata": {},
   "source": [
    "For the HDD and SDD classes, we're going to create an intermediate class called `Storage` with these additional properties:\n",
    "- `capacity_GB` (e.g. `120`)"
   ]
  },
  {
   "cell_type": "markdown",
   "metadata": {},
   "source": [
    "The `HDD` class extends `Storage` and has these additional properties:\n",
    "- `size` (e.g. ``2.5\"``)\n",
    "- `rpm` (e.g. `7000`)"
   ]
  },
  {
   "cell_type": "markdown",
   "metadata": {},
   "source": [
    "The `SSD` class extends `Storage` and has these additional properties:\n",
    "- `interface` (e.g. `PCIe NVMe 3.0 x4`)"
   ]
  },
  {
   "cell_type": "markdown",
   "metadata": {},
   "source": [
    "For all your classes, implement a full constructor that can be used to initialize all the properties, some form of validation on numeric types, as well as customized `__repr__` as you see fit."
   ]
  },
  {
   "cell_type": "markdown",
   "metadata": {},
   "source": [
    "For the `total` and `allocated` values in the `Resource` init, think of the arguments there as the **current** total and allocated counts. Those `total` and `allocated` attributes should be private **read-only** properties, but they are modifiable through the various methods such as `claim`, `return`, `died` and `purchased`. Other attributes like `name`, `manufacturer_name`, etc should be read-only."
   ]
  },
  {
   "cell_type": "code",
   "execution_count": null,
   "metadata": {},
   "outputs": [],
   "source": []
  }
 ],
 "metadata": {
  "kernelspec": {
   "display_name": "Python 3",
   "language": "python",
   "name": "python3"
  },
  "language_info": {
   "codemirror_mode": {
    "name": "ipython",
    "version": 3
   },
   "file_extension": ".py",
   "mimetype": "text/x-python",
   "name": "python",
   "nbconvert_exporter": "python",
   "pygments_lexer": "ipython3",
   "version": "3.6.7"
  }
 },
 "nbformat": 4,
 "nbformat_minor": 2
}
