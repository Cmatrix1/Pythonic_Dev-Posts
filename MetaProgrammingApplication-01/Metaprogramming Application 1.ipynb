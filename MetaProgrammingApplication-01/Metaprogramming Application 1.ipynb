{
 "cells": [
  {
   "cell_type": "markdown",
   "metadata": {},
   "source": [
    "### Metaprogramming - Application 1"
   ]
  },
  {
   "cell_type": "markdown",
   "metadata": {},
   "source": [
    "Are you tired of writing boiler-plate code like this:"
   ]
  },
  {
   "cell_type": "code",
   "execution_count": 1,
   "metadata": {},
   "outputs": [],
   "source": [
    "class Point2D:\n",
    "    __slots__ = ('_x', '_y')\n",
    "    \n",
    "    def __init__(self, x, y):\n",
    "        self._x = x\n",
    "        self._y = y\n",
    "        \n",
    "    @property\n",
    "    def x(self):\n",
    "        return self._x\n",
    "    \n",
    "    @property\n",
    "    def y(self):\n",
    "        return self._y\n",
    "    \n",
    "    def __eq__(self, other):\n",
    "        return isinstance(other, Point) and (self.x, self.y) == (other.x, other.y)\n",
    "    \n",
    "    def __hash__(self):\n",
    "        return hash((self.x, self.y))\n",
    "    \n",
    "    def __repr__(self):\n",
    "        return f'Point2D({self.x}, {self.y})'\n",
    "    \n",
    "    def __str__(self):\n",
    "        return f'({self.x}, {self.y})'\n",
    "        \n",
    "class Point3D:\n",
    "    __slots__ = ('_x', '_y', '_z')\n",
    "    \n",
    "    def __init__(self, x, y, z):\n",
    "        self._x = x\n",
    "        self._y = y\n",
    "        self._z = z\n",
    "    \n",
    "    @property\n",
    "    def x(self):\n",
    "        return self._x\n",
    "    \n",
    "    @property\n",
    "    def y(self):\n",
    "        return self._y\n",
    "    \n",
    "    @property\n",
    "    def z(self):\n",
    "        return self._z\n",
    "    \n",
    "    def __eq__(self, other):\n",
    "        return isinstance(other, Point) and (self.x, self.y, self.z) == (other.x, other.y, other.z)\n",
    "    \n",
    "    def __hash__(self):\n",
    "        return hash((self.x, self.y, self.z))\n",
    "\n",
    "    def __repr__(self):\n",
    "        return f'Point2D({self.x}, {self.y}, {self.z})'\n",
    "    \n",
    "    def __str__(self):\n",
    "        return f'({self.x}, {self.y}, {self.z})'\n"
   ]
  },
  {
   "cell_type": "markdown",
   "metadata": {},
   "source": [
    "It's basically the opposite of DRY!"
   ]
  },
  {
   "cell_type": "markdown",
   "metadata": {},
   "source": [
    "Let's try to solve this problem using metaclasses (because we might care about inheritance)."
   ]
  },
  {
   "cell_type": "markdown",
   "metadata": {},
   "source": [
    "First we are going to define our fields using a class attribute, like so:"
   ]
  },
  {
   "cell_type": "code",
   "execution_count": 2,
   "metadata": {},
   "outputs": [],
   "source": [
    "class Point2D:\n",
    "    _fields = ['x', 'y']\n",
    "    \n",
    "    def __init__(self, x, y):\n",
    "        self._x = x\n",
    "        self._y = y\n",
    "    \n",
    "class Point3D:\n",
    "    _fields = ['x', 'y', 'z']\n",
    "    \n",
    "    def __init__(self, x, y, z):\n",
    "        self._x = x\n",
    "        self._y = y\n",
    "        self._z = z"
   ]
  },
  {
   "cell_type": "markdown",
   "metadata": {},
   "source": [
    "For now, we'll keep the `__init__` in our classes themselves, but we'll come back to that later."
   ]
  },
  {
   "cell_type": "markdown",
   "metadata": {},
   "source": [
    "Next we are going to define a metaclass that will create the properties and slots, as well as implement the `__eq__`, `__hash__`, `__repr__` and `__str__` methods."
   ]
  },
  {
   "cell_type": "code",
   "execution_count": 3,
   "metadata": {},
   "outputs": [],
   "source": [
    "class SlottedStruct(type):\n",
    "    def __new__(cls, name, bases, class_dict):\n",
    "        cls_object = super().__new__(cls, name, bases, class_dict)\n",
    "        \n",
    "        # setup the __slots__\n",
    "        setattr(cls_object, '__slots__', [f'_{field}' for field in cls_object._fields])\n",
    "            \n",
    "        # create read-only property for each field\n",
    "        for field in cls_object._fields:\n",
    "            slot = f'_{field}'\n",
    "            # this will not work!\n",
    "            # remember about how closures work! The free variable is resolved when the function is called!\n",
    "            #     setattr(cls_object, field, property(fget=lambda self: getattr(self, slot)))\n",
    "            # so instead we have to use this workaround, by specifying the slot as a defaulted argument\n",
    "            setattr(cls_object, field, property(fget=lambda self, attrib=slot: getattr(self, attrib)))\n",
    "\n",
    "        return cls_object"
   ]
  },
  {
   "cell_type": "markdown",
   "metadata": {},
   "source": [
    "Let's see how this is looking so far:"
   ]
  },
  {
   "cell_type": "code",
   "execution_count": 4,
   "metadata": {
    "scrolled": true
   },
   "outputs": [],
   "source": [
    "class Person(metaclass=SlottedStruct):\n",
    "    _fields = ['name', 'age']\n",
    "    \n",
    "    def __init__(self, name, age):\n",
    "        self._name = name\n",
    "        self._age = age"
   ]
  },
  {
   "cell_type": "code",
   "execution_count": 5,
   "metadata": {},
   "outputs": [
    {
     "data": {
      "text/plain": [
       "mappingproxy({'__module__': '__main__',\n",
       "              '_fields': ['name', 'age'],\n",
       "              '__init__': <function __main__.Person.__init__(self, name, age)>,\n",
       "              '__dict__': <attribute '__dict__' of 'Person' objects>,\n",
       "              '__weakref__': <attribute '__weakref__' of 'Person' objects>,\n",
       "              '__doc__': None,\n",
       "              '__slots__': ['_name', '_age'],\n",
       "              'name': <property at 0x7fc7d0255f48>,\n",
       "              'age': <property at 0x7fc7d0255f98>})"
      ]
     },
     "execution_count": 5,
     "metadata": {},
     "output_type": "execute_result"
    }
   ],
   "source": [
    "vars(Person)"
   ]
  },
  {
   "cell_type": "markdown",
   "metadata": {},
   "source": [
    "As you can see we have `__slots__` defined, and properties for `name` and `age`. Let's try it out:"
   ]
  },
  {
   "cell_type": "code",
   "execution_count": 6,
   "metadata": {},
   "outputs": [],
   "source": [
    "p = Person('Alex', 19)"
   ]
  },
  {
   "cell_type": "code",
   "execution_count": 7,
   "metadata": {},
   "outputs": [
    {
     "data": {
      "text/plain": [
       "'Alex'"
      ]
     },
     "execution_count": 7,
     "metadata": {},
     "output_type": "execute_result"
    }
   ],
   "source": [
    "p.name"
   ]
  },
  {
   "cell_type": "code",
   "execution_count": 8,
   "metadata": {},
   "outputs": [
    {
     "data": {
      "text/plain": [
       "19"
      ]
     },
     "execution_count": 8,
     "metadata": {},
     "output_type": "execute_result"
    }
   ],
   "source": [
    "p.age"
   ]
  },
  {
   "cell_type": "markdown",
   "metadata": {},
   "source": [
    "So far so good, now let's continue implementing the rest of the functions:"
   ]
  },
  {
   "cell_type": "code",
   "execution_count": 9,
   "metadata": {},
   "outputs": [],
   "source": [
    "class SlottedStruct(type):\n",
    "    def __new__(cls, name, bases, class_dict):\n",
    "        cls_object = super().__new__(cls, name, bases, class_dict)\n",
    "        \n",
    "        # setup the __slots__\n",
    "        setattr(cls_object, '__slots__', [f'_{field}' for field in cls_object._fields])\n",
    "            \n",
    "        # create read-only property for each field\n",
    "        for field in cls_object._fields:\n",
    "            slot = f'_{field}'\n",
    "            # this will not work!\n",
    "            #     setattr(cls_object, field, property(fget=lambda self: getattr(self, slot)))\n",
    "            # Remember about how closures work! The free variable is resolved when the function is called!\n",
    "            # So instead we have to use this workaround, by specifying the slot as a defaulted argument\n",
    "            setattr(cls_object, field, property(fget=lambda self, attrib=slot: getattr(self, attrib)))\n",
    "\n",
    "        # create __eq__ method\n",
    "        def eq(self, other):\n",
    "            if isinstance(other, cls_object):\n",
    "                # ensure each corresponding field is equal\n",
    "                self_fields = [getattr(self, field) for field in cls_object._fields]\n",
    "                other_fields = [getattr(other, field) for field in cls_object._fields]\n",
    "                return self_fields == other_fields\n",
    "            return False\n",
    "        setattr(cls_object, '__eq__', eq)\n",
    "\n",
    "        # create __hash__ method\n",
    "        def hash_(self):\n",
    "            field_values = (getattr(self, field) for field in cls_object._fields)\n",
    "            return hash(tuple(field_values))\n",
    "        setattr(cls_object, '__hash__', hash_)\n",
    "        \n",
    "        # create __str__ method\n",
    "        def str_(self):\n",
    "            field_values = (getattr(self, field) for field in cls_object._fields)\n",
    "            field_values_joined = ', '.join(map(str, field_values))  # make every value a string\n",
    "            return f'{cls_object.__name__}({field_values_joined})'\n",
    "        setattr(cls_object, '__str__', str_)\n",
    "        \n",
    "        # create __repr__ method\n",
    "        def repr_(self):\n",
    "            field_values = (getattr(self, field) for field in cls_object._fields)\n",
    "            field_key_values = (f'{key}={value}' for key, value in zip(cls_object._fields, field_values))\n",
    "            field_key_values_str = ', '.join(field_key_values)\n",
    "            return f'{cls_object.__name__}({field_key_values_str})'\n",
    "        setattr(cls_object, '__repr__', repr_)\n",
    "        \n",
    "        return cls_object"
   ]
  },
  {
   "cell_type": "code",
   "execution_count": 10,
   "metadata": {},
   "outputs": [],
   "source": [
    "class Person(metaclass=SlottedStruct):\n",
    "    _fields = ['name']\n",
    "    \n",
    "    def __init__(self, name):\n",
    "        self._name = name"
   ]
  },
  {
   "cell_type": "markdown",
   "metadata": {},
   "source": [
    "Let's try this out:"
   ]
  },
  {
   "cell_type": "code",
   "execution_count": 11,
   "metadata": {},
   "outputs": [
    {
     "data": {
      "text/plain": [
       "__main__.SlottedStruct"
      ]
     },
     "execution_count": 11,
     "metadata": {},
     "output_type": "execute_result"
    }
   ],
   "source": [
    "type(Person)"
   ]
  },
  {
   "cell_type": "code",
   "execution_count": 12,
   "metadata": {},
   "outputs": [],
   "source": [
    "p1 = Person('Alex')\n",
    "p2 = Person('Alex')"
   ]
  },
  {
   "cell_type": "code",
   "execution_count": 13,
   "metadata": {},
   "outputs": [
    {
     "data": {
      "text/plain": [
       "(__main__.Person, True)"
      ]
     },
     "execution_count": 13,
     "metadata": {},
     "output_type": "execute_result"
    }
   ],
   "source": [
    "type(p1), isinstance(p1, Person)"
   ]
  },
  {
   "cell_type": "code",
   "execution_count": 14,
   "metadata": {},
   "outputs": [
    {
     "data": {
      "text/plain": [
       "True"
      ]
     },
     "execution_count": 14,
     "metadata": {},
     "output_type": "execute_result"
    }
   ],
   "source": [
    "p1 == p2"
   ]
  },
  {
   "cell_type": "code",
   "execution_count": 15,
   "metadata": {},
   "outputs": [
    {
     "data": {
      "text/plain": [
       "(-4434760416215847140, -4434760416215847140)"
      ]
     },
     "execution_count": 15,
     "metadata": {},
     "output_type": "execute_result"
    }
   ],
   "source": [
    "hash(p1), hash(p2)"
   ]
  },
  {
   "cell_type": "code",
   "execution_count": 16,
   "metadata": {},
   "outputs": [
    {
     "data": {
      "text/plain": [
       "'Person(name=Alex)'"
      ]
     },
     "execution_count": 16,
     "metadata": {},
     "output_type": "execute_result"
    }
   ],
   "source": [
    "repr(p1)"
   ]
  },
  {
   "cell_type": "code",
   "execution_count": 17,
   "metadata": {},
   "outputs": [
    {
     "data": {
      "text/plain": [
       "'Person(Alex)'"
      ]
     },
     "execution_count": 17,
     "metadata": {},
     "output_type": "execute_result"
    }
   ],
   "source": [
    "str(p1)"
   ]
  },
  {
   "cell_type": "markdown",
   "metadata": {},
   "source": [
    "And now, we can use this metaclass for any of our other classes too that need to follow the same pattern: slots for all the fields, read-only properties for all the fields, and equality, hashing, repr and str as implemented."
   ]
  },
  {
   "cell_type": "code",
   "execution_count": 18,
   "metadata": {},
   "outputs": [],
   "source": [
    "class Point2D(metaclass=SlottedStruct):\n",
    "    _fields = ['x', 'y']\n",
    "    \n",
    "    def __init__(self, x, y):\n",
    "        self._x = x\n",
    "        self._y = y\n",
    "        \n",
    "class Point3D(metaclass=SlottedStruct):\n",
    "    _fields = ['x', 'y', 'z']\n",
    "    \n",
    "    def __init__(self, x, y, z):\n",
    "        self._x = x\n",
    "        self._y = y\n",
    "        self._z = z"
   ]
  },
  {
   "cell_type": "code",
   "execution_count": 19,
   "metadata": {},
   "outputs": [],
   "source": [
    "p1 = Point2D(1, 2)\n",
    "p2 = Point2D(1, 2)\n",
    "p3 = Point2D(0, 0)"
   ]
  },
  {
   "cell_type": "code",
   "execution_count": 20,
   "metadata": {},
   "outputs": [
    {
     "data": {
      "text/plain": [
       "('Point2D(x=1, y=2)', 'Point2D(1, 2)', 3713081631934410656, 1, 2)"
      ]
     },
     "execution_count": 20,
     "metadata": {},
     "output_type": "execute_result"
    }
   ],
   "source": [
    "repr(p1), str(p1), hash(p1), p1.x, p1.y"
   ]
  },
  {
   "cell_type": "code",
   "execution_count": 21,
   "metadata": {},
   "outputs": [
    {
     "data": {
      "text/plain": [
       "('Point2D(x=1, y=2)', 'Point2D(1, 2)', 3713081631934410656, 1, 2)"
      ]
     },
     "execution_count": 21,
     "metadata": {},
     "output_type": "execute_result"
    }
   ],
   "source": [
    "repr(p2), str(p2), hash(p2), p2.x, p2.y"
   ]
  },
  {
   "cell_type": "code",
   "execution_count": 22,
   "metadata": {},
   "outputs": [
    {
     "data": {
      "text/plain": [
       "(False, True)"
      ]
     },
     "execution_count": 22,
     "metadata": {},
     "output_type": "execute_result"
    }
   ],
   "source": [
    "p1 is p2, p1 == p2"
   ]
  },
  {
   "cell_type": "code",
   "execution_count": 23,
   "metadata": {},
   "outputs": [
    {
     "data": {
      "text/plain": [
       "(False, False)"
      ]
     },
     "execution_count": 23,
     "metadata": {},
     "output_type": "execute_result"
    }
   ],
   "source": [
    "p1 is p3, p1 == p3"
   ]
  },
  {
   "cell_type": "markdown",
   "metadata": {},
   "source": [
    "And `Point3D` works exactly the same:"
   ]
  },
  {
   "cell_type": "code",
   "execution_count": 24,
   "metadata": {},
   "outputs": [],
   "source": [
    "p1 = Point3D(1, 2, 3)\n",
    "p2 = Point3D(1, 2, 3)\n",
    "p3 = Point3D(0, 0, 0)"
   ]
  },
  {
   "cell_type": "code",
   "execution_count": 25,
   "metadata": {},
   "outputs": [
    {
     "data": {
      "text/plain": [
       "(1, 2, 3)"
      ]
     },
     "execution_count": 25,
     "metadata": {},
     "output_type": "execute_result"
    }
   ],
   "source": [
    "p1.x, p1.y, p1.z"
   ]
  },
  {
   "cell_type": "code",
   "execution_count": 26,
   "metadata": {},
   "outputs": [
    {
     "data": {
      "text/plain": [
       "(True, False)"
      ]
     },
     "execution_count": 26,
     "metadata": {},
     "output_type": "execute_result"
    }
   ],
   "source": [
    "p1 == p2, p1 == p3"
   ]
  },
  {
   "cell_type": "markdown",
   "metadata": {},
   "source": [
    "Here's an additional twist!"
   ]
  },
  {
   "cell_type": "markdown",
   "metadata": {},
   "source": [
    "I don't like writing `metaclass=SlottedStruct` every time - so I'm going to use a class decorator to do that for me!!"
   ]
  },
  {
   "cell_type": "markdown",
   "metadata": {},
   "source": [
    "We already know that a class has properties named `__name__` and `__dict__`.\n",
    "\n",
    "An additional property it has is `__bases__`:"
   ]
  },
  {
   "cell_type": "code",
   "execution_count": 27,
   "metadata": {},
   "outputs": [
    {
     "data": {
      "text/plain": [
       "('Point2D',\n",
       " (object,),\n",
       " mappingproxy({'__module__': '__main__',\n",
       "               '_fields': ['x', 'y'],\n",
       "               '__init__': <function __main__.Point2D.__init__(self, x, y)>,\n",
       "               '__dict__': <attribute '__dict__' of 'Point2D' objects>,\n",
       "               '__weakref__': <attribute '__weakref__' of 'Point2D' objects>,\n",
       "               '__doc__': None,\n",
       "               '__slots__': ['_x', '_y'],\n",
       "               'x': <property at 0x7fc7d0256778>,\n",
       "               'y': <property at 0x7fc7d02567c8>,\n",
       "               '__eq__': <function __main__.SlottedStruct.__new__.<locals>.eq(self, other)>,\n",
       "               '__hash__': <function __main__.SlottedStruct.__new__.<locals>.hash_(self)>,\n",
       "               '__str__': <function __main__.SlottedStruct.__new__.<locals>.str_(self)>,\n",
       "               '__repr__': <function __main__.SlottedStruct.__new__.<locals>.repr_(self)>}))"
      ]
     },
     "execution_count": 27,
     "metadata": {},
     "output_type": "execute_result"
    }
   ],
   "source": [
    "Point2D.__name__, Point2D.__bases__, Point2D.__dict__"
   ]
  },
  {
   "cell_type": "markdown",
   "metadata": {},
   "source": [
    "So, our class decorator will need to take the class, and rebuild it, but specifying the metaclass we want to use:"
   ]
  },
  {
   "cell_type": "code",
   "execution_count": 28,
   "metadata": {},
   "outputs": [],
   "source": [
    "def struct(cls):\n",
    "    return SlottedStruct(cls.__name__, cls.__bases__, dict(cls.__dict__))"
   ]
  },
  {
   "cell_type": "code",
   "execution_count": 29,
   "metadata": {},
   "outputs": [],
   "source": [
    "@struct\n",
    "class Point2D:\n",
    "    _fields = ['x', 'y']\n",
    "    \n",
    "    def __init__(self, x, y):\n",
    "        self._x = x\n",
    "        self._y = y"
   ]
  },
  {
   "cell_type": "code",
   "execution_count": 30,
   "metadata": {},
   "outputs": [
    {
     "data": {
      "text/plain": [
       "__main__.SlottedStruct"
      ]
     },
     "execution_count": 30,
     "metadata": {},
     "output_type": "execute_result"
    }
   ],
   "source": [
    "type(Point2D)"
   ]
  },
  {
   "cell_type": "code",
   "execution_count": 31,
   "metadata": {},
   "outputs": [],
   "source": [
    "p = Point2D(1, 2)"
   ]
  },
  {
   "cell_type": "code",
   "execution_count": 32,
   "metadata": {},
   "outputs": [
    {
     "data": {
      "text/plain": [
       "__main__.Point2D"
      ]
     },
     "execution_count": 32,
     "metadata": {},
     "output_type": "execute_result"
    }
   ],
   "source": [
    "type(p)"
   ]
  },
  {
   "cell_type": "code",
   "execution_count": 33,
   "metadata": {},
   "outputs": [
    {
     "data": {
      "text/plain": [
       "(1, 2)"
      ]
     },
     "execution_count": 33,
     "metadata": {},
     "output_type": "execute_result"
    }
   ],
   "source": [
    "p.x, p.y"
   ]
  },
  {
   "cell_type": "code",
   "execution_count": 34,
   "metadata": {},
   "outputs": [
    {
     "data": {
      "text/plain": [
       "'Point2D(x=1, y=2)'"
      ]
     },
     "execution_count": 34,
     "metadata": {},
     "output_type": "execute_result"
    }
   ],
   "source": [
    "repr(p)"
   ]
  },
  {
   "cell_type": "markdown",
   "metadata": {},
   "source": [
    "All this takes a little bit of getting used to, but the basic concepts are not particularly difficult. The applications thereof do mean you have to use just about everything you've learned about Python in this series!"
   ]
  },
  {
   "cell_type": "markdown",
   "metadata": {},
   "source": [
    "This was a good exercise to see metaprogramming in action, but as far as this example is concerned we have a much better alternative, starting in Python 3.7 - **dataclasses**.\n",
    "\n",
    "We'll come back to those later."
   ]
  }
 ],
 "metadata": {
  "kernelspec": {
   "display_name": "Python 3",
   "language": "python",
   "name": "python3"
  },
  "language_info": {
   "codemirror_mode": {
    "name": "ipython",
    "version": 3
   },
   "file_extension": ".py",
   "mimetype": "text/x-python",
   "name": "python",
   "nbconvert_exporter": "python",
   "pygments_lexer": "ipython3",
   "version": "3.7.4"
  }
 },
 "nbformat": 4,
 "nbformat_minor": 2
}
