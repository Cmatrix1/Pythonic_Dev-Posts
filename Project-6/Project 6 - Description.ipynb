{
 "cells": [
  {
   "cell_type": "markdown",
   "metadata": {},
   "source": [
    "### Project 6 - Description"
   ]
  },
  {
   "cell_type": "markdown",
   "metadata": {},
   "source": [
    "The goal of this project is to rewrite the pull pipeline we created in the **Application - Pipelines - Pulling** video in the **Generators as Coroutines** section.\n",
    "\n",
    "You should look at the techniques we used in the **Application - Pipelines - Broadcasting** video and apply them here.\n",
    "\n",
    "The goal is to write a pipeline that will push data from the source file, `cars.csv`, and push it through some filters and a save coroutine to ultimately save the results as a csv file.\n",
    "\n",
    "Try to make your code as generic as possible, and don't worry about column headers in the output file (unless you really want to!)."
   ]
  },
  {
   "cell_type": "markdown",
   "metadata": {},
   "source": [
    "When you are done with your solution you should be able to specify an arbitrary number of filters on the name field.\n",
    "\n",
    "If you specify `Chevrolet`, `Carlo` and `Landau` for three filters, your output file should contain two lines of data only:"
   ]
  },
  {
   "cell_type": "markdown",
   "metadata": {},
   "source": [
    "```\n",
    "Chevrolet Monte Carlo Landau,15.5,8,350.0,170.0,4165.,11.4,77,US\n",
    "Chevrolet Monte Carlo Landau,19.2,8,305.0,145.0,3425.,13.2,78,US\n",
    "```"
   ]
  },
  {
   "cell_type": "markdown",
   "metadata": {},
   "source": [
    "Good luck!!"
   ]
  }
 ],
 "metadata": {
  "kernelspec": {
   "display_name": "Python 3",
   "language": "python",
   "name": "python3"
  },
  "language_info": {
   "codemirror_mode": {
    "name": "ipython",
    "version": 3
   },
   "file_extension": ".py",
   "mimetype": "text/x-python",
   "name": "python",
   "nbconvert_exporter": "python",
   "pygments_lexer": "ipython3",
   "version": "3.6.2"
  }
 },
 "nbformat": 4,
 "nbformat_minor": 2
}
