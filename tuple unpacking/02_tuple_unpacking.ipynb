{
 "cells": [
  {
   "cell_type": "markdown",
   "id": "d438c827",
   "metadata": {},
   "source": [
    "### Idiomatic Python: Tuple Unpacking"
   ]
  },
  {
   "cell_type": "markdown",
   "id": "8a6c9457",
   "metadata": {},
   "source": [
    "This is a very easy concept, but one I see far too often either not used, or not used properly."
   ]
  },
  {
   "cell_type": "markdown",
   "id": "37095c31",
   "metadata": {},
   "source": [
    "Essentially, we can unpack the elements of a tuple into several variables (symbols) in a single assignment expression:"
   ]
  },
  {
   "cell_type": "code",
   "execution_count": 1,
   "id": "fd673192",
   "metadata": {},
   "outputs": [],
   "source": [
    "a, b, c = 1, 2, 3"
   ]
  },
  {
   "cell_type": "markdown",
   "id": "78996738",
   "metadata": {},
   "source": [
    "The right hand side is the `tuple` `(1, 2, 3)` - remember that the parenthese is not what defines a tuple structure, but rather the comma delimiters."
   ]
  },
  {
   "cell_type": "code",
   "execution_count": 2,
   "id": "f376645c",
   "metadata": {},
   "outputs": [
    {
     "data": {
      "text/plain": [
       "tuple"
      ]
     },
     "execution_count": 2,
     "metadata": {},
     "output_type": "execute_result"
    }
   ],
   "source": [
    "t = 1, 2, 3\n",
    "type(t)"
   ]
  },
  {
   "cell_type": "markdown",
   "id": "97c0c465",
   "metadata": {},
   "source": [
    "The left hand side of the expression is simply a list of comma separated symbols that we want to assign the values of our tuple into (so, yes, the number of elements in the tuple, and the number of variable names must match - there is a more advanced form of unpacking that can use a `*` notation, but that's not for this video)."
   ]
  },
  {
   "cell_type": "markdown",
   "id": "6af2559e",
   "metadata": {},
   "source": [
    "So when we write:"
   ]
  },
  {
   "cell_type": "code",
   "execution_count": 3,
   "id": "3a4b90d7",
   "metadata": {},
   "outputs": [],
   "source": [
    "a, b, c = 1, 2, 3"
   ]
  },
  {
   "cell_type": "markdown",
   "id": "42f02683",
   "metadata": {},
   "source": [
    "We end up with this:"
   ]
  },
  {
   "cell_type": "code",
   "execution_count": 4,
   "id": "51a2b07f",
   "metadata": {},
   "outputs": [
    {
     "data": {
      "text/plain": [
       "1"
      ]
     },
     "execution_count": 4,
     "metadata": {},
     "output_type": "execute_result"
    }
   ],
   "source": [
    "a"
   ]
  },
  {
   "cell_type": "code",
   "execution_count": 5,
   "id": "8a623d22",
   "metadata": {},
   "outputs": [
    {
     "data": {
      "text/plain": [
       "2"
      ]
     },
     "execution_count": 5,
     "metadata": {},
     "output_type": "execute_result"
    }
   ],
   "source": [
    "b"
   ]
  },
  {
   "cell_type": "code",
   "execution_count": 6,
   "id": "fb018265",
   "metadata": {},
   "outputs": [
    {
     "data": {
      "text/plain": [
       "3"
      ]
     },
     "execution_count": 6,
     "metadata": {},
     "output_type": "execute_result"
    }
   ],
   "source": [
    "c"
   ]
  },
  {
   "cell_type": "markdown",
   "id": "1c254947",
   "metadata": {},
   "source": [
    "The **really important** thing to understand with any assignment expression in Python, is that the **right hand side of the expression is evaluated fully first**, and **then** the assignment is then done."
   ]
  },
  {
   "cell_type": "markdown",
   "id": "12ce1b1b",
   "metadata": {},
   "source": [
    "So, when we write this:"
   ]
  },
  {
   "cell_type": "code",
   "execution_count": 7,
   "id": "974c9e32",
   "metadata": {},
   "outputs": [],
   "source": [
    "x = 1\n",
    "\n",
    "a, b = x+1, x+2"
   ]
  },
  {
   "cell_type": "markdown",
   "id": "9930e44a",
   "metadata": {},
   "source": [
    "The tuple on the right is evaluated first, e.g. `(2, 3)`, and then the unpacking is done, so that we end up with:"
   ]
  },
  {
   "cell_type": "code",
   "execution_count": 8,
   "id": "cd898ae3",
   "metadata": {},
   "outputs": [
    {
     "data": {
      "text/plain": [
       "2"
      ]
     },
     "execution_count": 8,
     "metadata": {},
     "output_type": "execute_result"
    }
   ],
   "source": [
    "a"
   ]
  },
  {
   "cell_type": "code",
   "execution_count": 9,
   "id": "aee9cddc",
   "metadata": {},
   "outputs": [
    {
     "data": {
      "text/plain": [
       "3"
      ]
     },
     "execution_count": 9,
     "metadata": {},
     "output_type": "execute_result"
    }
   ],
   "source": [
    "b"
   ]
  },
  {
   "cell_type": "markdown",
   "id": "2403df95",
   "metadata": {},
   "source": [
    "This means that in such an expression:"
   ]
  },
  {
   "cell_type": "code",
   "execution_count": 10,
   "id": "c9d91014",
   "metadata": {},
   "outputs": [],
   "source": [
    "x = 1\n",
    "\n",
    "x, a = x+1, x+2"
   ]
  },
  {
   "cell_type": "markdown",
   "id": "d46c2f30",
   "metadata": {},
   "source": [
    "The right hand side is evaluated **first**, which evaluates to `(2, 3)`, and **then** the assignment is made, which means that `x` will be `2`, and `a` will end up as `3`:"
   ]
  },
  {
   "cell_type": "code",
   "execution_count": 11,
   "id": "cb788fe0",
   "metadata": {},
   "outputs": [
    {
     "data": {
      "text/plain": [
       "2"
      ]
     },
     "execution_count": 11,
     "metadata": {},
     "output_type": "execute_result"
    }
   ],
   "source": [
    "x"
   ]
  },
  {
   "cell_type": "code",
   "execution_count": 12,
   "id": "7c10ad8a",
   "metadata": {},
   "outputs": [
    {
     "data": {
      "text/plain": [
       "3"
      ]
     },
     "execution_count": 12,
     "metadata": {},
     "output_type": "execute_result"
    }
   ],
   "source": [
    "a"
   ]
  },
  {
   "cell_type": "markdown",
   "id": "20a26550",
   "metadata": {},
   "source": [
    "So why is this important to understand?\n",
    "\n",
    "One very simple example is swapping two variables around:"
   ]
  },
  {
   "cell_type": "code",
   "execution_count": 13,
   "id": "68715eeb",
   "metadata": {},
   "outputs": [],
   "source": [
    "a = 1\n",
    "b = 2"
   ]
  },
  {
   "cell_type": "markdown",
   "id": "7fd7a1f2",
   "metadata": {},
   "source": [
    "The \"standard\" way a lot of people have learned (in other languages, or in a Python course if it wasn't very good 😜) is this:"
   ]
  },
  {
   "cell_type": "code",
   "execution_count": 14,
   "id": "74a5e0a6",
   "metadata": {},
   "outputs": [
    {
     "name": "stdout",
     "output_type": "stream",
     "text": [
      "a=2, b=1\n"
     ]
    }
   ],
   "source": [
    "a = 1\n",
    "b = 2\n",
    "\n",
    "tmp = a\n",
    "a = b\n",
    "b = tmp\n",
    "\n",
    "print(f\"{a=}, {b=}\")"
   ]
  },
  {
   "cell_type": "markdown",
   "id": "699bab12",
   "metadata": {},
   "source": [
    "> Note: the f-string syntax `{a=}` is only for Python 3.8+. If you are using an earlier version you can write\n",
    "> ```python print(f\"\")\n",
    ">    print(f\"a={a}, b={b}\")\n",
    ">```"
   ]
  },
  {
   "cell_type": "markdown",
   "id": "a6eb8963",
   "metadata": {},
   "source": [
    "But the Pythonic way of swapping two variables is to use tuple unpacking instead - remembering that the right hand side gets evaluated **first**, and **then** the assignment is performed."
   ]
  },
  {
   "cell_type": "code",
   "execution_count": 15,
   "id": "5f867e49",
   "metadata": {},
   "outputs": [
    {
     "name": "stdout",
     "output_type": "stream",
     "text": [
      "a=2, b=1\n"
     ]
    }
   ],
   "source": [
    "a = 1\n",
    "b = 2\n",
    "\n",
    "a, b = b, a\n",
    "\n",
    "print(f\"{a=}, {b=}\")"
   ]
  },
  {
   "cell_type": "markdown",
   "id": "fbf4aaee",
   "metadata": {},
   "source": [
    "Easy!!"
   ]
  },
  {
   "cell_type": "markdown",
   "id": "4ac719b2",
   "metadata": {},
   "source": [
    "One way that I see tuple unpacking used sometimes is to save the number of lines it takes to make multiple assignments.\n",
    "\n",
    "Some may disagree with me, but, in general (not always, and I'll show you an example of that), I positively **dislike** that - as far as I am concerned it makes the code less readable:"
   ]
  },
  {
   "cell_type": "code",
   "execution_count": 16,
   "id": "200eda5e",
   "metadata": {
    "scrolled": true
   },
   "outputs": [],
   "source": [
    "from math import pi, sin, cos, tan\n",
    "\n",
    "x = pi / 3\n",
    "sin_x, cos_x, tan_x = sin(x), cos(x), tan(x)"
   ]
  },
  {
   "cell_type": "markdown",
   "id": "54022210",
   "metadata": {},
   "source": [
    "I would much rather see it written this way:"
   ]
  },
  {
   "cell_type": "code",
   "execution_count": 17,
   "id": "03f75d30",
   "metadata": {},
   "outputs": [],
   "source": [
    "sin_x = sin(x)\n",
    "cas_x = cos(x)\n",
    "tan_x = tan(x)"
   ]
  },
  {
   "cell_type": "markdown",
   "id": "ebe7d0ba",
   "metadata": {},
   "source": [
    "However, there are times when using this style of assigning values to variables makes sense - like the variable swapping example we just saw. That was an example of a \"simultaneous\" state update. Let's look at another example where using tuple unpacking for simultaneous state update makes a lot of sense."
   ]
  },
  {
   "cell_type": "markdown",
   "id": "e65423d2",
   "metadata": {},
   "source": [
    "Let's look at this function which calculates the first `n` Fibonacci numbers:\n",
    "\n",
    "```0, 1, 1, 2, 3, 5, 8, 13, 21, ...```\n",
    "\n",
    "Basically, apart from the first two numbers in the sequence, each new number in the sequence is the sum of the previous two."
   ]
  },
  {
   "cell_type": "code",
   "execution_count": 18,
   "id": "1f64ec03",
   "metadata": {},
   "outputs": [],
   "source": [
    "def fib(n):\n",
    "    if n < 1 or not isinstance(n, int):\n",
    "        raise ValueError(\"n must be an integer and at least 1\")\n",
    "    \n",
    "    first = 0\n",
    "    second = 1\n",
    "    \n",
    "    new_number = 0\n",
    "    for _ in range(n):\n",
    "        yield first\n",
    "        new_number = first + second\n",
    "        first = second\n",
    "        second = new_number"
   ]
  },
  {
   "cell_type": "code",
   "execution_count": 19,
   "id": "8d6e34ad",
   "metadata": {},
   "outputs": [
    {
     "data": {
      "text/plain": [
       "[0, 1, 1, 2, 3, 5, 8, 13]"
      ]
     },
     "execution_count": 19,
     "metadata": {},
     "output_type": "execute_result"
    }
   ],
   "source": [
    "list(fib(8))"
   ]
  },
  {
   "cell_type": "markdown",
   "id": "c9b66d25",
   "metadata": {},
   "source": [
    "We can make this easier to understand if we use tuple unpacking:"
   ]
  },
  {
   "cell_type": "code",
   "execution_count": 20,
   "id": "82e0eaeb",
   "metadata": {},
   "outputs": [],
   "source": [
    "def fib(n):\n",
    "    if n < 1 or not isinstance(n, int):\n",
    "        raise ValueError(\"n must be an integer and at least 1\")\n",
    "    \n",
    "    first = 0\n",
    "    second = 1\n",
    "    \n",
    "    for _ in range(n):\n",
    "        yield first\n",
    "        first, second = second, first + second"
   ]
  },
  {
   "cell_type": "code",
   "execution_count": 21,
   "id": "5b552eb1",
   "metadata": {},
   "outputs": [
    {
     "data": {
      "text/plain": [
       "[0, 1, 1, 2, 3, 5, 8, 13]"
      ]
     },
     "execution_count": 21,
     "metadata": {},
     "output_type": "execute_result"
    }
   ],
   "source": [
    "list(fib(8))"
   ]
  },
  {
   "cell_type": "markdown",
   "id": "fe0af2f2",
   "metadata": {},
   "source": [
    "By the way, I slipped one more Pythonic idea into the Fibonacci function - I used `yield`, instead of calculating all the requested numbers, storing them in a list, and returning that list.\n",
    "\n",
    "That way, if someone calls my function with a large value of `n`, say `10_000`, but only looks at the first `4` or `5` elements, I have not wasted CPU and memory resources calculating `10_000` Fibonacci numbers in the sequence!"
   ]
  },
  {
   "cell_type": "markdown",
   "id": "ca20a935",
   "metadata": {},
   "source": [
    "Another very common use case for tuple unpacking is in `for` loops which iterate over tuples or lists where we want to extract the contents of the tuple/list directly into variables."
   ]
  },
  {
   "cell_type": "markdown",
   "id": "d2e1cb82",
   "metadata": {},
   "source": [
    "A typical example might be when we iterate of the keys and values of a dictionary using the `.items()` dictionary view:"
   ]
  },
  {
   "cell_type": "code",
   "execution_count": 22,
   "id": "03d693de",
   "metadata": {},
   "outputs": [],
   "source": [
    "d = {\n",
    "    \"a\": 1,\n",
    "    \"b\": 2,\n",
    "    \"c\": 3,\n",
    "}"
   ]
  },
  {
   "cell_type": "markdown",
   "id": "55090377",
   "metadata": {},
   "source": [
    "To iterate over both keys and values we would do this:"
   ]
  },
  {
   "cell_type": "code",
   "execution_count": 23,
   "id": "9167b676",
   "metadata": {},
   "outputs": [
    {
     "name": "stdout",
     "output_type": "stream",
     "text": [
      "('a', 1)\n",
      "('b', 2)\n",
      "('c', 3)\n"
     ]
    }
   ],
   "source": [
    "for key_value in d.items():\n",
    "    print(key_value)"
   ]
  },
  {
   "cell_type": "markdown",
   "id": "6caf483f",
   "metadata": {},
   "source": [
    "We can extract the key and value into separate variables using unpacking this way:"
   ]
  },
  {
   "cell_type": "code",
   "execution_count": 24,
   "id": "378c8f75",
   "metadata": {},
   "outputs": [
    {
     "name": "stdout",
     "output_type": "stream",
     "text": [
      "a 1\n",
      "b 2\n",
      "c 3\n"
     ]
    }
   ],
   "source": [
    "for key_value in d.items():\n",
    "    key, value = key_value\n",
    "    print(key, value)"
   ]
  },
  {
   "cell_type": "markdown",
   "id": "9ddbec43",
   "metadata": {},
   "source": [
    "But, the more Pythonic way of doing this is directly in the `for` statement itself:"
   ]
  },
  {
   "cell_type": "code",
   "execution_count": 25,
   "id": "dbc8cd9d",
   "metadata": {},
   "outputs": [
    {
     "name": "stdout",
     "output_type": "stream",
     "text": [
      "a 1\n",
      "b 2\n",
      "c 3\n"
     ]
    }
   ],
   "source": [
    "for key, value in d.items():\n",
    "    print(key, value)"
   ]
  },
  {
   "cell_type": "markdown",
   "id": "50256f02",
   "metadata": {},
   "source": [
    "So, for more Pythonic code, **do** use tuple unpacking where it makes your code easier to write and read.\n",
    "\n",
    "But **do not** use it to make multiple assignments simply because you want to use less lines of code - there has to be a valid reason to do it!"
   ]
  },
  {
   "cell_type": "markdown",
   "id": "a919b889",
   "metadata": {},
   "source": [
    "I know that there are code challenges out there that \"grade\" you on the number of code lines you write - the less the better.\n",
    "\n",
    "Sorry, I totally disagree - if collapsing the number of lines in your code makes it less readable, then **NO**. Writing unreadable code just so you can claim you did it in x lines of code compared to someone else, is maybe fun, but not for code someone else (or yourself 6 months from now) is going to read.\n",
    "\n",
    "If it makes your code **more** readable and expressive, then **YES**.\n",
    "\n",
    "Readability matters!"
   ]
  },
  {
   "cell_type": "code",
   "execution_count": null,
   "id": "542f7454",
   "metadata": {},
   "outputs": [],
   "source": []
  }
 ],
 "metadata": {
  "kernelspec": {
   "display_name": "Python 3 (ipykernel)",
   "language": "python",
   "name": "python3"
  },
  "language_info": {
   "codemirror_mode": {
    "name": "ipython",
    "version": 3
   },
   "file_extension": ".py",
   "mimetype": "text/x-python",
   "name": "python",
   "nbconvert_exporter": "python",
   "pygments_lexer": "ipython3",
   "version": "3.10.2"
  }
 },
 "nbformat": 4,
 "nbformat_minor": 5
}
